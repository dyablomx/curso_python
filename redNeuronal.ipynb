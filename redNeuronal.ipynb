{
  "nbformat": 4,
  "nbformat_minor": 0,
  "metadata": {
    "colab": {
      "provenance": [],
      "authorship_tag": "ABX9TyNfkqnj9SXoQ5cAhyuuKJdd",
      "include_colab_link": true
    },
    "kernelspec": {
      "name": "python3",
      "display_name": "Python 3"
    },
    "language_info": {
      "name": "python"
    }
  },
  "cells": [
    {
      "cell_type": "markdown",
      "metadata": {
        "id": "view-in-github",
        "colab_type": "text"
      },
      "source": [
        "<a href=\"https://colab.research.google.com/github/dyablomx/curso_python/blob/main/redNeuronal.ipynb\" target=\"_parent\"><img src=\"https://colab.research.google.com/assets/colab-badge.svg\" alt=\"Open In Colab\"/></a>"
      ]
    },
    {
      "cell_type": "code",
      "execution_count": null,
      "metadata": {
        "id": "sgGJ90GMPzf3"
      },
      "outputs": [],
      "source": [
        "import tensorflow as tf\n",
        "import numpy as np"
      ]
    },
    {
      "cell_type": "code",
      "source": [
        "#celcius = np.array([-40,-10,0,8,15,22,38], dtype=float)\n",
        "#fahrenheit = np.array([-40,14,32,46,59,72,100], dtype=float)\n",
        "\n",
        "celcius = np.array([-40,-10,0,1,8,15,22,38,45], dtype=float)\n",
        "fahrenheit = np.array([-40,14,32,33.8,46.4,59,71.6,100.4,113], dtype=float)"
      ],
      "metadata": {
        "id": "Wd-V_hn1QBSz"
      },
      "execution_count": null,
      "outputs": []
    },
    {
      "cell_type": "code",
      "source": [
        "#capa = tf.keras.layers.Dense(units=1, input_shape=[1])\n",
        "#modelo = tf.keras.Sequential([capa])\n",
        "\n",
        "oculta1 = tf.keras.layers.Dense(units=3, input_shape=[1])\n",
        "oculta2 = tf.keras.layers.Dense(units=3)\n",
        "salida = tf.keras.layers.Dense(units=1)\n",
        "modelo = tf.keras.Sequential([oculta1,oculta2,salida])"
      ],
      "metadata": {
        "id": "SrrUhqN1Q1-w"
      },
      "execution_count": null,
      "outputs": []
    },
    {
      "cell_type": "code",
      "source": [
        "modelo.compile(\n",
        "    optimizer = tf.keras.optimizers.Adam(0.1),\n",
        "    loss = 'mean_squared_error'\n",
        ")"
      ],
      "metadata": {
        "id": "jGmFWUXnpS32"
      },
      "execution_count": null,
      "outputs": []
    },
    {
      "cell_type": "code",
      "source": [
        "print(\"Comenzando Entrenamiento...\")\n",
        "historial = modelo.fit(celcius, fahrenheit, epochs = 100, verbose = False)\n",
        "print(\"Modelo Entrenado\")"
      ],
      "metadata": {
        "colab": {
          "base_uri": "https://localhost:8080/"
        },
        "id": "Em_QyOtXp4S-",
        "outputId": "1478bea6-a500-417d-820c-03897d0df19b"
      },
      "execution_count": null,
      "outputs": [
        {
          "output_type": "stream",
          "name": "stdout",
          "text": [
            "Comenzando Entrenamiento...\n",
            "Modelo Entrenado\n"
          ]
        }
      ]
    },
    {
      "cell_type": "code",
      "source": [
        "import matplotlib.pyplot as plt\n",
        "plt.xlabel(\"# de epoca\")\n",
        "plt.ylabel(\"Magnitud de perdida\")\n",
        "plt.plot(historial.history[\"loss\"])"
      ],
      "metadata": {
        "colab": {
          "base_uri": "https://localhost:8080/",
          "height": 467
        },
        "id": "Fcr5y6BkqQqA",
        "outputId": "5cd93f50-1f70-41ac-d5dd-0742f1dd6124"
      },
      "execution_count": null,
      "outputs": [
        {
          "output_type": "execute_result",
          "data": {
            "text/plain": [
              "[<matplotlib.lines.Line2D at 0x7fbdf67b4dc0>]"
            ]
          },
          "metadata": {},
          "execution_count": 99
        },
        {
          "output_type": "display_data",
          "data": {
            "text/plain": [
              "<Figure size 640x480 with 1 Axes>"
            ],
            "image/png": "[encoded data removed]"
          },
          "metadata": {}
        }
      ]
    },
    {
      "cell_type": "code",
      "source": [
        "print(\"Hagamos una prediccion\")\n",
        "resultado = modelo.predict([90.0])\n",
        "print(f\"El resultado es {resultado} fahrenheit\")"
      ],
      "metadata": {
        "colab": {
          "base_uri": "https://localhost:8080/"
        },
        "id": "MJF03I29rHNT",
        "outputId": "a77c9603-1f16-4aa8-b119-9a8c2bb28b06"
      },
      "execution_count": null,
      "outputs": [
        {
          "output_type": "stream",
          "name": "stdout",
          "text": [
            "Hagamos una prediccion\n",
            "1/1 [==============================] - 0s 39ms/step\n",
            "El resultado es [[193.92888]] fahrenheit\n"
          ]
        }
      ]
    },
    {
      "cell_type": "code",
      "source": [
        "print(\"Variables Internas del modelo\")\n",
        "#print(capa.get_weights())\n",
        "print(oculta1.get_weights())\n",
        "print(\"\\n\")\n",
        "print(oculta2.get_weights())\n",
        "print(\"\\n\")\n",
        "print(salida.get_weights())"
      ],
      "metadata": {
        "colab": {
          "base_uri": "https://localhost:8080/"
        },
        "id": "WVcZkTgXrjpq",
        "outputId": "4348ed41-0696-496a-af83-ac52c52856b8"
      },
      "execution_count": null,
      "outputs": [
        {
          "output_type": "stream",
          "name": "stdout",
          "text": [
            "Variables Internas del modelo\n",
            "[array([[-0.99482286,  0.11033078, -0.09062437]], dtype=float32), array([-4.808552  , -3.8539414 , -0.44350064], dtype=float32)]\n",
            "\n",
            "\n",
            "[array([[ 0.1845015 ,  0.39085624,  1.1453657 ],\n",
            "       [ 1.395742  , -0.03876772,  0.32007286],\n",
            "       [ 0.17111143, -0.01772535,  0.19341557]], dtype=float32), array([-3.7944312, -2.6685758, -4.173121 ], dtype=float32)]\n",
            "\n",
            "\n",
            "[array([[-1.0485117 ],\n",
            "       [-0.36432767],\n",
            "       [-1.434983  ]], dtype=float32), array([3.9673004], dtype=float32)]\n"
          ]
        }
      ]
    }
  ]
}